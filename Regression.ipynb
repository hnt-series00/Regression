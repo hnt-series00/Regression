{
 "cells": [
  {
   "cell_type": "code",
   "execution_count": 75,
   "id": "6a79cd1d-2730-470a-b67a-9e98cec3971c",
   "metadata": {},
   "outputs": [],
   "source": [
    "import numpy as np\n",
    "#from scipy import stats\n",
    "import pandas as pd\n",
    "%matplotlib inline\n",
    "import matplotlib.pyplot as plt\n",
    "import matplotlib as mpl\n",
    "#import japanize_matplotlib"
   ]
  },
  {
   "cell_type": "code",
   "execution_count": 76,
   "id": "1420d4ba-f77e-46ce-8e49-8fccb6820f0f",
   "metadata": {},
   "outputs": [
    {
     "data": {
      "text/html": [
       "<div>\n",
       "<style scoped>\n",
       "    .dataframe tbody tr th:only-of-type {\n",
       "        vertical-align: middle;\n",
       "    }\n",
       "\n",
       "    .dataframe tbody tr th {\n",
       "        vertical-align: top;\n",
       "    }\n",
       "\n",
       "    .dataframe thead th {\n",
       "        text-align: right;\n",
       "    }\n",
       "</style>\n",
       "<table border=\"1\" class=\"dataframe\">\n",
       "  <thead>\n",
       "    <tr style=\"text-align: right;\">\n",
       "      <th></th>\n",
       "      <th>Time</th>\n",
       "      <th>Temperature</th>\n",
       "      <th>Humidity</th>\n",
       "      <th>CO2</th>\n",
       "      <th>Noise</th>\n",
       "      <th>Pressure</th>\n",
       "    </tr>\n",
       "  </thead>\n",
       "  <tbody>\n",
       "    <tr>\n",
       "      <th>0</th>\n",
       "      <td>0:04:02</td>\n",
       "      <td>23.6</td>\n",
       "      <td>62</td>\n",
       "      <td>2693</td>\n",
       "      <td>32</td>\n",
       "      <td>1014.9</td>\n",
       "    </tr>\n",
       "    <tr>\n",
       "      <th>1</th>\n",
       "      <td>0:09:05</td>\n",
       "      <td>23.6</td>\n",
       "      <td>62</td>\n",
       "      <td>2710</td>\n",
       "      <td>32</td>\n",
       "      <td>1014.9</td>\n",
       "    </tr>\n",
       "    <tr>\n",
       "      <th>2</th>\n",
       "      <td>0:14:08</td>\n",
       "      <td>23.7</td>\n",
       "      <td>62</td>\n",
       "      <td>2697</td>\n",
       "      <td>32</td>\n",
       "      <td>1014.9</td>\n",
       "    </tr>\n",
       "    <tr>\n",
       "      <th>3</th>\n",
       "      <td>0:19:11</td>\n",
       "      <td>23.6</td>\n",
       "      <td>62</td>\n",
       "      <td>2700</td>\n",
       "      <td>32</td>\n",
       "      <td>1014.9</td>\n",
       "    </tr>\n",
       "    <tr>\n",
       "      <th>4</th>\n",
       "      <td>0:24:14</td>\n",
       "      <td>23.6</td>\n",
       "      <td>62</td>\n",
       "      <td>2725</td>\n",
       "      <td>32</td>\n",
       "      <td>1014.9</td>\n",
       "    </tr>\n",
       "    <tr>\n",
       "      <th>...</th>\n",
       "      <td>...</td>\n",
       "      <td>...</td>\n",
       "      <td>...</td>\n",
       "      <td>...</td>\n",
       "      <td>...</td>\n",
       "      <td>...</td>\n",
       "    </tr>\n",
       "    <tr>\n",
       "      <th>242</th>\n",
       "      <td>20:26:08</td>\n",
       "      <td>25.7</td>\n",
       "      <td>57</td>\n",
       "      <td>2384</td>\n",
       "      <td>32</td>\n",
       "      <td>1014.9</td>\n",
       "    </tr>\n",
       "    <tr>\n",
       "      <th>243</th>\n",
       "      <td>20:31:11</td>\n",
       "      <td>25.7</td>\n",
       "      <td>57</td>\n",
       "      <td>2384</td>\n",
       "      <td>32</td>\n",
       "      <td>1014.9</td>\n",
       "    </tr>\n",
       "    <tr>\n",
       "      <th>244</th>\n",
       "      <td>20:36:14</td>\n",
       "      <td>25.6</td>\n",
       "      <td>57</td>\n",
       "      <td>2415</td>\n",
       "      <td>32</td>\n",
       "      <td>1014.9</td>\n",
       "    </tr>\n",
       "    <tr>\n",
       "      <th>245</th>\n",
       "      <td>20:41:17</td>\n",
       "      <td>25.6</td>\n",
       "      <td>57</td>\n",
       "      <td>2371</td>\n",
       "      <td>32</td>\n",
       "      <td>1014.9</td>\n",
       "    </tr>\n",
       "    <tr>\n",
       "      <th>246</th>\n",
       "      <td>20:46:20</td>\n",
       "      <td>25.6</td>\n",
       "      <td>57</td>\n",
       "      <td>2356</td>\n",
       "      <td>32</td>\n",
       "      <td>1014.9</td>\n",
       "    </tr>\n",
       "  </tbody>\n",
       "</table>\n",
       "<p>247 rows × 6 columns</p>\n",
       "</div>"
      ],
      "text/plain": [
       "         Time  Temperature  Humidity   CO2  Noise  Pressure\n",
       "0     0:04:02         23.6        62  2693     32    1014.9\n",
       "1     0:09:05         23.6        62  2710     32    1014.9\n",
       "2     0:14:08         23.7        62  2697     32    1014.9\n",
       "3     0:19:11         23.6        62  2700     32    1014.9\n",
       "4     0:24:14         23.6        62  2725     32    1014.9\n",
       "..        ...          ...       ...   ...    ...       ...\n",
       "242  20:26:08         25.7        57  2384     32    1014.9\n",
       "243  20:31:11         25.7        57  2384     32    1014.9\n",
       "244  20:36:14         25.6        57  2415     32    1014.9\n",
       "245  20:41:17         25.6        57  2371     32    1014.9\n",
       "246  20:46:20         25.6        57  2356     32    1014.9\n",
       "\n",
       "[247 rows x 6 columns]"
      ]
     },
     "execution_count": 76,
     "metadata": {},
     "output_type": "execute_result"
    }
   ],
   "source": [
    "df = pd.read_csv('2021-5-14.csv')\n",
    "df"
   ]
  },
  {
   "cell_type": "code",
   "execution_count": 77,
   "id": "bb67bc85-9e0c-4c92-8339-41f5c955b50d",
   "metadata": {},
   "outputs": [
    {
     "name": "stdout",
     "output_type": "stream",
     "text": [
      "-0.6999906186579758\n",
      "0.9059224837868579\n"
     ]
    }
   ],
   "source": [
    "print(df['CO2'].corr(df['Temperature'])) \n",
    "print(df['CO2'].corr(df['Humidity']))"
   ]
  },
  {
   "cell_type": "code",
   "execution_count": 78,
   "id": "ec13c606-6b5d-4e8c-915d-4b03a5f906ea",
   "metadata": {
    "tags": []
   },
   "outputs": [
    {
     "data": {
      "text/plain": [
       "<matplotlib.collections.PathCollection at 0x14f31ff28>"
      ]
     },
     "execution_count": 78,
     "metadata": {},
     "output_type": "execute_result"
    },
    {
     "data": {
      "image/png": "[encoded data removed]",
      "text/plain": [
       "<Figure size 1080x432 with 2 Axes>"
      ]
     },
     "metadata": {
      "needs_background": "light"
     },
     "output_type": "display_data"
    }
   ],
   "source": [
    "plt.figure(figsize=(15, 6))\n",
    "\n",
    "plt.subplot(1,2,1)\n",
    "plt.scatter(df['CO2'], df['Temperature'])\n",
    "plt.subplot(1,2,2)\n",
    "plt.scatter(df['CO2'], df['Humidity'])"
   ]
  },
  {
   "cell_type": "code",
   "execution_count": 96,
   "id": "42efef0d-8534-49de-9910-b85597002841",
   "metadata": {},
   "outputs": [],
   "source": [
    "X = df.drop(columns=['Time','CO2','Noise','Pressure'])\n",
    "y = df['CO2']\n",
    "#print(y)\n",
    "#X = preprocessing.StandardScaler().fit_transform(X)\n",
    "X = preprocessing.MinMaxScaler().fit_transform(X)\n",
    "\n",
    "from sklearn.model_selection import train_test_split \n",
    "# 訓練データ・テストデータへ6:4の比でランダムに分3\n",
    "X_train, X_test, y_train, y_test = train_test_split(X, y, test_size=0.35)"
   ]
  },
  {
   "cell_type": "code",
   "execution_count": 97,
   "id": "f7e41f51-8809-4985-82f5-bfd8a61b76e1",
   "metadata": {},
   "outputs": [
    {
     "name": "stdout",
     "output_type": "stream",
     "text": [
      "正答率(学習) =  0.9844788349716574\n",
      "正答率(テスト) =  0.9686189747334814\n"
     ]
    }
   ],
   "source": [
    "# Random Forest\n",
    "\n",
    "from sklearn.ensemble import RandomForestRegressor\n",
    "\n",
    "rf = RandomForestRegressor(n_estimators=5)\n",
    "rf.fit(X_train, y_train)\n",
    "\n",
    "#正答率\n",
    "print(\"正答率(学習) = \", rf.score(X_train,y_train))\n",
    "print(\"正答率(テスト) = \", rf.score(X_test,y_test))"
   ]
  },
  {
   "cell_type": "code",
   "execution_count": 101,
   "id": "1a004d8b-561d-4c02-aa33-6285fbf2222a",
   "metadata": {},
   "outputs": [
    {
     "data": {
      "image/png": "[encoded data removed]",
      "text/plain": [
       "<Figure size 432x288 with 1 Axes>"
      ]
     },
     "metadata": {
      "needs_background": "light"
     },
     "output_type": "display_data"
    }
   ],
   "source": [
    "plt.figure(figsize=(6, 4))\n",
    "plt.ylim([0, 1])\n",
    "plt.xlabel(\"Feature Importances\",fontsize = 15)\n",
    "plt.ylabel(\"score\",fontsize = 17)\n",
    "y = rf.feature_importances_  \n",
    "x = np.arange(len(y))\n",
    "label = ['Temperature','Humidity']\n",
    "plt.bar(x, y, tick_label=label, align=\"center\")\n",
    "plt.show()"
   ]
  },
  {
   "cell_type": "code",
   "execution_count": null,
   "id": "0aff0604-9bee-40e4-aee2-18f3ecb297d8",
   "metadata": {},
   "outputs": [],
   "source": []
  }
 ],
 "metadata": {
  "kernelspec": {
   "display_name": "Python 3",
   "language": "python",
   "name": "python3"
  },
  "language_info": {
   "codemirror_mode": {
    "name": "ipython",
    "version": 3
   },
   "file_extension": ".py",
   "mimetype": "text/x-python",
   "name": "python",
   "nbconvert_exporter": "python",
   "pygments_lexer": "ipython3",
   "version": "3.7.2"
  }
 },
 "nbformat": 4,
 "nbformat_minor": 5
}